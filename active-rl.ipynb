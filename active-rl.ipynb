{
 "cells": [
  {
   "cell_type": "markdown",
   "metadata": {},
   "source": [
    "### Active Reinforecemnent Learning"
   ]
  },
  {
   "cell_type": "markdown",
   "metadata": {},
   "source": [
    "<div style=\"text-align: right\"> <B>Supanat Jintawatsakoon : 60199130181</B></div><Br>\n",
    "Active Reinforecemnent Learning <br>\n",
    "QLearning\n",
    "Fork from Github <br>\n",
    "source project : https://github.com/aimacode/aima-python"
   ]
  },
  {
   "cell_type": "code",
   "execution_count": 1,
   "metadata": {},
   "outputs": [],
   "source": [
    "from grid import *"
   ]
  },
  {
   "cell_type": "code",
   "execution_count": 2,
   "metadata": {},
   "outputs": [],
   "source": [
    "grid = [[-0.05, -0.05, -0.05],\n",
    "        [-0.05, -0.05, +1],\n",
    "        [-0.05, -0.05, -1]]\n",
    "\n",
    "grid_environment = Grid(grid, terminals=[(2, 2), (2, 1)])     "
   ]
  },
  {
   "cell_type": "code",
   "execution_count": 3,
   "metadata": {},
   "outputs": [],
   "source": [
    "# Action Directions\n",
    "north = (0, 1)\n",
    "south = (0,-1)\n",
    "west = (-1, 0)\n",
    "east = (1, 0)\n",
    "north_east = (1, 1)\n",
    "north_west = (-1, 1)\n",
    "south_east = (1,-1)\n",
    "south_west = (-1,-1)\n",
    "\n",
    "policy = {\n",
    "    (0, 2): south_east,  (1, 2): east,  (2, 2): south,\n",
    "    (0, 1): east, (1, 2): east,  (2, 1): None,\n",
    "    (0, 0): north, (1, 0): north_west,  (2, 0): None \n",
    "}"
   ]
  },
  {
   "cell_type": "code",
   "execution_count": 4,
   "metadata": {},
   "outputs": [
    {
     "data": {
      "text/plain": [
       "{(0, 2): (1, -1),\n",
       " (1, 2): (1, 0),\n",
       " (2, 2): (0, -1),\n",
       " (0, 1): (1, 0),\n",
       " (2, 1): None,\n",
       " (0, 0): (0, 1),\n",
       " (1, 0): (-1, 1),\n",
       " (2, 0): None}"
      ]
     },
     "execution_count": 4,
     "metadata": {},
     "output_type": "execute_result"
    }
   ],
   "source": [
    "policy"
   ]
  },
  {
   "cell_type": "markdown",
   "metadata": {},
   "source": [
    "### QLearning"
   ]
  },
  {
   "cell_type": "code",
   "execution_count": 5,
   "metadata": {},
   "outputs": [],
   "source": [
    "q_agent = QLearningAgent(grid_environment, Ne=5, Rplus=2, \n",
    "                         alpha=lambda n: 60./(59+n))"
   ]
  },
  {
   "cell_type": "code",
   "execution_count": 6,
   "metadata": {},
   "outputs": [],
   "source": [
    "# run trials\n",
    "for i in range(100):\n",
    "    run_single_trial(q_agent,grid_environment)\n"
   ]
  },
  {
   "cell_type": "code",
   "execution_count": 7,
   "metadata": {},
   "outputs": [
    {
     "data": {
      "text/plain": [
       "defaultdict(float,\n",
       "            {((0, 0), (1, 0)): -0.05,\n",
       "             ((0, 0), (0, 1)): 0.31476560803126286,\n",
       "             ((0, 0), (-1, 0)): 0.1953961145498513,\n",
       "             ((0, 0), (0, -1)): 0.1955764518301857,\n",
       "             ((1, 0), (1, 0)): -0.05,\n",
       "             ((1, 0), (0, 1)): 0.00708529322189011,\n",
       "             ((1, 0), (-1, 0)): 0.4039235409366234,\n",
       "             ((1, 0), (0, -1)): 0.14159491227923904,\n",
       "             ((2, 0), (1, 0)): -1.0,\n",
       "             ((2, 0), (0, 1)): 0.15784958229560186,\n",
       "             ((2, 0), (-1, 0)): -0.4903966232060465,\n",
       "             ((2, 0), (0, -1)): 0.0,\n",
       "             ((2, 1), None): 0.7342876748400804,\n",
       "             ((1, 1), (1, 0)): 0.5620295174887211,\n",
       "             ((1, 1), (0, 1)): 0.36849552159848076,\n",
       "             ((1, 1), (-1, 0)): 0.3746313560717861,\n",
       "             ((1, 1), (0, -1)): 0.3770368403596878,\n",
       "             ((0, 1), (1, 0)): 0.4288529880199355,\n",
       "             ((0, 1), (0, 1)): 0.1847252347555182,\n",
       "             ((0, 1), (-1, 0)): 0.2809560104874621,\n",
       "             ((0, 1), (0, -1)): 0.25886189382236197,\n",
       "             ((0, 2), (1, 0)): 0.2659906715059449,\n",
       "             ((0, 2), (0, 1)): 0.2648091354731298,\n",
       "             ((0, 2), (-1, 0)): 0.2995006334057825,\n",
       "             ((0, 2), (0, -1)): 0.3252864302454671,\n",
       "             ((1, 2), (1, 0)): 0.2325600114404937,\n",
       "             ((1, 2), (0, 1)): 0.2949201545872556,\n",
       "             ((1, 2), (-1, 0)): 0.2510010040755878,\n",
       "             ((1, 2), (0, -1)): 0.3060275337516285,\n",
       "             ((2, 2), None): 0.191028228427224})"
      ]
     },
     "execution_count": 7,
     "metadata": {},
     "output_type": "execute_result"
    }
   ],
   "source": [
    "q_agent.Q"
   ]
  },
  {
   "cell_type": "code",
   "execution_count": 8,
   "metadata": {},
   "outputs": [],
   "source": [
    "U = defaultdict(lambda: -1000)\n",
    "for state_action, value in q_agent.Q.items():\n",
    "    state, action = state_action\n",
    "    if U[state] < value:\n",
    "        U[state] = value\n"
   ]
  },
  {
   "cell_type": "markdown",
   "metadata": {},
   "source": [
    "Utility"
   ]
  },
  {
   "cell_type": "code",
   "execution_count": 9,
   "metadata": {},
   "outputs": [
    {
     "name": "stdout",
     "output_type": "stream",
     "text": [
      "Calculated Utilities\n",
      "\n"
     ]
    },
    {
     "data": {
      "text/plain": [
       "defaultdict(<function __main__.<lambda>()>,\n",
       "            {(0, 0): 0.31476560803126286,\n",
       "             (1, 0): 0.4039235409366234,\n",
       "             (2, 0): 0.15784958229560186,\n",
       "             (2, 1): 0.7342876748400804,\n",
       "             (1, 1): 0.5620295174887211,\n",
       "             (0, 1): 0.4288529880199355,\n",
       "             (0, 2): 0.3252864302454671,\n",
       "             (1, 2): 0.3060275337516285,\n",
       "             (2, 2): 0.191028228427224})"
      ]
     },
     "execution_count": 9,
     "metadata": {},
     "output_type": "execute_result"
    }
   ],
   "source": [
    "print('Calculated Utilities\\n')\n",
    "U"
   ]
  },
  {
   "cell_type": "code",
   "execution_count": null,
   "metadata": {},
   "outputs": [],
   "source": []
  }
 ],
 "metadata": {
  "kernelspec": {
   "display_name": "Python 3",
   "language": "python",
   "name": "python3"
  },
  "language_info": {
   "codemirror_mode": {
    "name": "ipython",
    "version": 3
   },
   "file_extension": ".py",
   "mimetype": "text/x-python",
   "name": "python",
   "nbconvert_exporter": "python",
   "pygments_lexer": "ipython3",
   "version": "3.6.5"
  }
 },
 "nbformat": 4,
 "nbformat_minor": 2
}
